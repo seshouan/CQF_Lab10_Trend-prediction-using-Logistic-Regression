{
 "cells": [
  {
   "cell_type": "code",
   "execution_count": null,
   "id": "358e372f-b3e7-45c0-9ed1-603ae4dcda4e",
   "metadata": {},
   "outputs": [],
   "source": [
    "# Ignore warnings\n",
    "import warnings\n",
    "warnings.filterwarnings('ignore')\n",
    "# Base Libraries\n",
    "import pandas as pd\n",
    "import numpy as np\n",
    "from functools import partial\n",
    "import matplotlib.pyplot as plt\n",
    "# Classifier\n",
    "from sklearn.linear_model import LogisticRegression\n",
    "# Preprocessing\n",
    "from sklearn.preprocessing import StandardScaler, MinMaxScaler\n",
    "from sklearn.pipeline import Pipeline\n",
    "from sklearn.model_selection import (\n",
    "                                    train_test_split,\n",
    "                                    TimeSeriesSplit\n",
    "                                    )\n",
    "# Metrics\n",
    "from sklearn.metrics import (\n",
    "                            accuracy_score,\n",
    "                            classification_report,\n",
    "                            RocCurveDisplay,\n",
    "                            ConfusionMatrixDisplay,\n",
    "                            log_loss\n",
    "                            )"
   ]
  },
  {
   "cell_type": "code",
   "execution_count": null,
   "id": "1d34cdcd-718f-4cc2-a943-bb5bae4e8f14",
   "metadata": {},
   "outputs": [],
   "source": [
    "df = pd.read_csv('../data/niftyindex.csv', index_col=0, parse_dates=True, dayfirst=True)\n",
    "df.head(2)"
   ]
  },
  {
   "cell_type": "code",
   "execution_count": null,
   "id": "bddc233d-b6f6-4ec8-a40c-9d999360b15d",
   "metadata": {},
   "outputs": [],
   "source": [
    "# Get Info\n",
    "df.info()"
   ]
  },
  {
   "cell_type": "code",
   "execution_count": null,
   "id": "88bc340d-61eb-42ac-bb86-78c00c8eb961",
   "metadata": {},
   "outputs": [],
   "source": [
    "# Visualize data\n",
    "plt.plot(df['Close']);"
   ]
  },
  {
   "cell_type": "code",
   "execution_count": null,
   "id": "9fb1305e-9010-400b-a46a-8c28a3446f7e",
   "metadata": {},
   "outputs": [],
   "source": [
    "# Descriptive statistics\n",
    "df.describe().T"
   ]
  },
  {
   "cell_type": "code",
   "execution_count": null,
   "id": "22913ac2-daed-47d5-8507-6cc335cd9747",
   "metadata": {},
   "outputs": [],
   "source": [
    "# Check for missing values\n",
    "df.isnull().sum()"
   ]
  },
  {
   "cell_type": "code",
   "execution_count": null,
   "id": "f459a4da-d3fb-4a82-82e8-ed94e6e8b6d1",
   "metadata": {},
   "outputs": [],
   "source": [
    "# Create Features\n",
    "df['HC'] = df['High'] - df['Close']\n",
    "df['RET'] = np.log(df['Close'] / df['Close'].shift(1))\n",
    "df['MA7'] = df['Close'] / df['Close'].rolling(7).mean()\n",
    "df['VMA'] = df['Volume'] / df['Volume'].rolling(7).mean()\n",
    "df['OC_'] = df['Close'] / df['Open'] - 1\n",
    "df['OC'] = df['OC_'].rolling(7).mean()\n",
    "df['OC'] = df['OC_'].rolling(14).mean()\n",
    "df['HC_'] = df['High'] / df['Low'] - 1\n",
    "df['HC'] = df['HC_'].rolling(7).mean()\n",
    "df['GAP_'] = df['Open'] / df['Close'].shift(1) - 1\n",
    "df['GAP'] = df['GAP_'].rolling(7).mean()\n",
    "df['STD'] = df['RET'].rolling(7).std()\n",
    "df['UB'] = df['Close'].rolling(7).mean() + df['Close'].rolling(7).std() * 2\n",
    "df.dropna(inplace=True)\n",
    "\n",
    "features = df.drop(['Open', 'High', 'Low', 'Close', 'Volume', 'OC_', 'HC_', 'GAP_'], axis=1)\n",
    "features.head(2)"
   ]
  },
  {
   "cell_type": "code",
   "execution_count": null,
   "id": "5305d766-45a1-4003-9565-5f04bdaa2d8b",
   "metadata": {},
   "outputs": [],
   "source": [
    "# Specific X\n",
    "X = features.values"
   ]
  },
  {
   "cell_type": "code",
   "execution_count": null,
   "id": "8a80e9cd-e591-4a18-a2f6-845016a90d22",
   "metadata": {},
   "outputs": [],
   "source": [
    "# Specify y\n",
    "y = np.where(df['Close'].shift(-1)>0.995*df['Close'],1,0)"
   ]
  },
  {
   "cell_type": "code",
   "execution_count": null,
   "id": "63f7f5cb-ace3-45e8-a636-a02e7657feb3",
   "metadata": {},
   "outputs": [],
   "source": [
    "# Check Class Imbalance\n",
    "pd.Series(y).value_counts()"
   ]
  },
  {
   "cell_type": "code",
   "execution_count": null,
   "id": "5bf7f16c-ffd1-45b1-8fb1-0df310cb4dde",
   "metadata": {},
   "outputs": [],
   "source": [
    "# Split the Data into Training and Testing\n",
    "X_train, X_test, y_train, y_test = train_test_split(X, y, test_size=0.2, shuffle=False)"
   ]
  },
  {
   "cell_type": "code",
   "execution_count": null,
   "id": "f1d418d5-a76a-4837-a0cc-1f288b54c293",
   "metadata": {},
   "outputs": [],
   "source": [
    "# Define a Baseline Model\n",
    "classifier = Pipeline([\n",
    "        (\"scaler\", StandardScaler()),\n",
    "        (\"classifier\", LogisticRegression(class_weight='balanced'))\n",
    "    ])\n",
    "classifier.fit(X_train, y_train)"
   ]
  },
  {
   "cell_type": "code",
   "execution_count": null,
   "id": "e96f5a76-c74d-4900-a886-3084bc59d34a",
   "metadata": {},
   "outputs": [],
   "source": [
    "# Verify Class Labels\n",
    "classifier.classes_"
   ]
  },
  {
   "cell_type": "code",
   "execution_count": null,
   "id": "6d95ba1d-719a-45ba-b3a5-0a6b28a716ac",
   "metadata": {},
   "outputs": [],
   "source": [
    "# Predict the Class Labels\n",
    "y_pred = classifier.predict(X_test)\n",
    "y_pred[-20:]"
   ]
  },
  {
   "cell_type": "code",
   "execution_count": null,
   "id": "99b4843c-0d1c-4ef5-86f8-4f9ad60ecbce",
   "metadata": {},
   "outputs": [],
   "source": [
    "# Predict Probabilities\n",
    "y_proba = classifier.predict_proba(X_test)\n",
    "y_proba[-20:]"
   ]
  },
  {
   "cell_type": "code",
   "execution_count": null,
   "id": "0444f992-3929-4de2-b7c3-7b3fb6bb1177",
   "metadata": {},
   "outputs": [],
   "source": [
    "# Get the Scores\n",
    "acc_train = accuracy_score(y_train, classifier.fit(X_train, y_train).predict(X_train))\n",
    "acc_test = accuracy_score(y_test, classifier.predict(X_test))\n",
    "print(f'Baseline Model -- Train Accuracy: {acc_train:0.4}, Test Accuracy: {acc_test:0.4}')"
   ]
  },
  {
   "cell_type": "code",
   "execution_count": null,
   "id": "b30973a0-146a-4331-93fc-0a813735fb91",
   "metadata": {},
   "outputs": [],
   "source": [
    "# Display confussion matrix\n",
    "disp = ConfusionMatrixDisplay.from_estimator(\n",
    "        classifier,\n",
    "        X_test,\n",
    "        y_test,\n",
    "        # display_labels=model.classes_,\n",
    "        cmap=plt.cm.Blues\n",
    "        )\n",
    "plt.title('Confusion matrix')\n",
    "plt.show()"
   ]
  },
  {
   "cell_type": "code",
   "execution_count": null,
   "id": "129044b7-5d06-4dfc-9792-563e8abb0ed8",
   "metadata": {},
   "outputs": [],
   "source": [
    "# Display ROCCurve\n",
    "disp = RocCurveDisplay.from_estimator(\n",
    "            classifier,\n",
    "            X_test,\n",
    "            y_test,\n",
    "            name='Baseline Model')\n",
    "plt.title(\"AUC-ROC Curve \\n\")\n",
    "plt.plot([0,1],[0,1],linestyle=\"--\", label='Random 50:50')\n",
    "plt.legend()\n",
    "plt.show()"
   ]
  },
  {
   "cell_type": "code",
   "execution_count": null,
   "id": "30172fcc-9324-4639-ae6f-27ce9c16a8e9",
   "metadata": {},
   "outputs": [],
   "source": [
    "# Classification Report\n",
    "print(classification_report(y_test, classifier.predict(X_test)))"
   ]
  },
  {
   "cell_type": "code",
   "execution_count": null,
   "id": "02fc0040-32c0-42db-aff7-ee3295d46e84",
   "metadata": {},
   "outputs": [],
   "source": [
    "# Get Params list\n",
    "classifier.get_params()"
   ]
  },
  {
   "cell_type": "code",
   "execution_count": null,
   "id": "5f15530f-0cb6-42b9-9b63-33179aeb8d35",
   "metadata": {},
   "outputs": [],
   "source": [
    "# Use Optuna for Tuning\n",
    "import optuna"
   ]
  },
  {
   "cell_type": "code",
   "execution_count": null,
   "id": "1f0dcd01-9272-4ba1-aaf0-71cc25b1a62d",
   "metadata": {},
   "outputs": [],
   "source": [
    "# Define Objective Function\n",
    "def optimize(trial, x, y):\n",
    "    # specify params range\n",
    "    tolerance = trial.suggest_float(\"tol\", 0.001, 0.01, log=True)\n",
    "    regularization = trial.suggest_float('C', 0.001, 1, log=True)\n",
    "    \n",
    "    model = Pipeline([\n",
    "        (\"scaler\", StandardScaler()),\n",
    "        (\"model\", LogisticRegression(\n",
    "            C=regularization,\n",
    "            tol=tolerance,\n",
    "            class_weight='balanced'))\n",
    "    ])\n",
    "    \n",
    "    tscv = TimeSeriesSplit(n_splits=2, gap=1)\n",
    "    ll = []\n",
    "    \n",
    "    for idx in tscv.split(x):\n",
    "        train_idx, test_idx = idx[0], idx[1]\n",
    "        xtrain = x[train_idx]\n",
    "        ytrain = y[train_idx]\n",
    "        xtest = x[test_idx]\n",
    "        ytest = y[test_idx]\n",
    "        model.fit(xtrain, ytrain)\n",
    "        preds = model.predict(xtest)\n",
    "        ll.append(log_loss(ytest, preds))\n",
    "    return -1.0 * np.mean(ll)"
   ]
  },
  {
   "cell_type": "code",
   "execution_count": null,
   "id": "60044ff3-0e9c-465a-ae05-cc1237e93518",
   "metadata": {},
   "outputs": [],
   "source": [
    "# Create a Study\n",
    "study = optuna.create_study(\n",
    "    study_name='hp_lr',\n",
    "    direction='minimize'\n",
    ")"
   ]
  },
  {
   "cell_type": "code",
   "execution_count": null,
   "id": "b09de38b-6fbf-4e99-96c8-f086c976781f",
   "metadata": {},
   "outputs": [],
   "source": [
    "# Specify Optimization function\n",
    "optimization_function = partial(optimize, x=X, y=y)\n",
    "study.optimize(optimization_function, n_trials=20)"
   ]
  },
  {
   "cell_type": "code",
   "execution_count": null,
   "id": "5a14e99f-6bf1-4668-89cc-c7a90173a56d",
   "metadata": {},
   "outputs": [],
   "source": [
    "# Get the Best Params\n",
    "print(f'Best Params: {study.best_params}, Best Value: {study.best_value}')"
   ]
  },
  {
   "cell_type": "code",
   "execution_count": null,
   "id": "e2cd81e7-7b4d-4305-b3df-9bfaac45d44c",
   "metadata": {},
   "outputs": [],
   "source": [
    "# plot Optimization History\n",
    "optuna.visualization.plot_optimization_history(study)"
   ]
  },
  {
   "cell_type": "code",
   "execution_count": null,
   "id": "afbec15b-ccdc-483e-9a62-1b2caf2b54b7",
   "metadata": {},
   "outputs": [],
   "source": [
    "# Plot Param Importances\n",
    "optuna.visualization.plot_param_importances(study)"
   ]
  },
  {
   "cell_type": "code",
   "execution_count": null,
   "id": "87fb8125-3932-405a-b074-d87743c9684b",
   "metadata": {},
   "outputs": [],
   "source": [
    "# plot accuracies for each HP trail\n",
    "optuna.visualization.plot_slice(study)"
   ]
  },
  {
   "cell_type": "code",
   "execution_count": null,
   "id": "08cb8c29-d210-4652-a493-df936f4aa864",
   "metadata": {},
   "outputs": [],
   "source": [
    "# plot the surface\n",
    "optuna.visualization.plot_contour(study, params=['tol', 'C'])"
   ]
  },
  {
   "cell_type": "code",
   "execution_count": null,
   "id": "7a5fbffd-2730-4290-96c4-b5aefa7f7ef4",
   "metadata": {},
   "outputs": [],
   "source": [
    "# plot parallel coordinates\n",
    "optuna.visualization.plot_parallel_coordinate(study)"
   ]
  },
  {
   "cell_type": "code",
   "execution_count": null,
   "id": "f4a13ab5-be05-404e-88f6-72088baa8cef",
   "metadata": {},
   "outputs": [],
   "source": [
    "# Scale and fit the model\n",
    "clf = Pipeline([\n",
    "    (\"scaler\", StandardScaler()),\n",
    "    (\"estimator\", LogisticRegression(\n",
    "        tol=study.best_params['tol'],\n",
    "        C=study.best_params['C'],\n",
    "        class_weight='balanced',\n",
    "        ))\n",
    "])\n",
    "\n",
    "clf.fit(X_train, y_train)"
   ]
  },
  {
   "cell_type": "code",
   "execution_count": null,
   "id": "1256bdc2-a503-4676-aeff-6afbc85867de",
   "metadata": {},
   "outputs": [],
   "source": [
    "# Predict Class Labels\n",
    "y_pred = clf.predict(X_test)\n",
    "\n",
    "# Predict Probabilities for upside\n",
    "# y_proba = model.best_estimator_.predict_proba(X_test)[:,1]\n",
    "\n",
    "# Measure Accuracy\n",
    "acc_train = accuracy_score(y_train, clf.predict(X_train))\n",
    "acc_test = accuracy_score(y_test, y_pred)\n",
    "\n",
    "# Print Accuracy\n",
    "print(f'\\n Training Accuracy \\t: {acc_train :0.4} \\n Test Accuracy \\t\\t: {acc_test :0.4}')"
   ]
  },
  {
   "cell_type": "code",
   "execution_count": null,
   "id": "fd10b363-3fac-4c53-a09f-0c8107100893",
   "metadata": {},
   "outputs": [],
   "source": [
    "# Display confussion matrix\n",
    "disp = ConfusionMatrixDisplay.from_estimator(\n",
    "        clf,\n",
    "        X_test,\n",
    "        y_test,\n",
    "        # display_labels=model.classes_,\n",
    "        cmap=plt.cm.Blues\n",
    "    )\n",
    "plt.title('Confusion matrix')\n",
    "plt.show()"
   ]
  },
  {
   "cell_type": "code",
   "execution_count": null,
   "id": "cf9c7271-9f3a-4965-b351-b22928509cc2",
   "metadata": {},
   "outputs": [],
   "source": [
    "# Display ROCCurve\n",
    "disp = RocCurveDisplay.from_estimator(\n",
    "            clf,\n",
    "            X_test,\n",
    "            y_test,\n",
    "            name='Tuned Model')\n",
    "plt.title(\"AUC-ROC Curve \\n\")\n",
    "plt.plot([0,1],[0,1],linestyle=\"--\", label='Random 50:50')\n",
    "plt.legend()\n",
    "plt.show()"
   ]
  },
  {
   "cell_type": "code",
   "execution_count": null,
   "id": "a5114cd2-615c-465d-8ad8-c0968e541e93",
   "metadata": {},
   "outputs": [],
   "source": [
    "# Classification Report\n",
    "print(classification_report(y_test, y_pred))"
   ]
  },
  {
   "cell_type": "code",
   "execution_count": null,
   "id": "ab8ab97c-502b-4cde-8af3-57476774a773",
   "metadata": {},
   "outputs": [],
   "source": [
    "df2 = pd.read_csv('../data/niftyindex.csv', index_col=0, parse_dates=True, dayfirst=True)\n",
    "df2 = df2.iloc[13:,:]\n",
    "\n",
    "# Get Prediction\n",
    "df2['Signal'] = clf.predict(X)\n",
    "\n",
    "# Define Entry Logic\n",
    "df2['Entry'] = np.where(df2['Signal']==1, df2['Close'], 0)\n",
    "\n",
    "# Defining Exit Logic\n",
    "df2['Exit'] = np.where((df2['Entry'] != 0) & (df2['Open'].shift(-1) <= df2['Close']),\n",
    "                         df['Open'].shift(-1), 0)\n",
    "df2['Exit'] = np.where((df2['Entry'] != 0) & (df2['Open'].shift(-1) > df2['Close']),\n",
    "                         df2['Close'].shift(-1), df2['Exit'])\n",
    "\n",
    "# Calculate MTM\n",
    "df2['P&L'] = df2['Exit'] - df2['Entry']\n",
    "\n",
    "# Generate Equity Curve\n",
    "df2['Equity'] = df2['P&L'].cumsum() + df2['Close'][0]\n",
    "\n",
    "# Calculate Benchmark Return\n",
    "df2['Returns'] = np.log(df2['Close']).diff().fillna(0)\n",
    "\n",
    "# Calculate Strategy Return\n",
    "df2['Strategy'] = (df2['Equity']/df2['Equity'].shift(1) - 1).fillna(0)\n",
    "df2 = df2.iloc[:-1]"
   ]
  },
  {
   "cell_type": "code",
   "execution_count": null,
   "id": "a8768e46-d309-43e5-9583-52e64f0f8c95",
   "metadata": {},
   "outputs": [],
   "source": [
    "# Generate HTML Strategy Report\n",
    "# Refer HTML file for report\n",
    "import quantstats as qs\n",
    "\n",
    "qs.reports.html(df2['Strategy'], df2['Returns'])"
   ]
  },
  {
   "cell_type": "code",
   "execution_count": null,
   "id": "dbf85749-68c6-4e99-90e6-4e2d64522654",
   "metadata": {},
   "outputs": [],
   "source": [
    "# Can also use pyfolio for analysis\n",
    "import pyfolio as pf\n",
    "\n",
    "df3 = df2.copy()\n",
    "df3.index = df3.index.tz_localize('utc')\n",
    "pf.create_returns_tear_sheet(df3['Strategy'], live_start_date='2020-04-07', benchmark_rets=df3['Returns'])"
   ]
  },
  {
   "cell_type": "code",
   "execution_count": null,
   "id": "ad219946-f573-4b1a-a554-50f84b51b9ea",
   "metadata": {},
   "outputs": [],
   "source": []
  }
 ],
 "metadata": {
  "kernelspec": {
   "display_name": "Python 3 (ipykernel)",
   "language": "python",
   "name": "python3"
  },
  "language_info": {
   "codemirror_mode": {
    "name": "ipython",
    "version": 3
   },
   "file_extension": ".py",
   "mimetype": "text/x-python",
   "name": "python",
   "nbconvert_exporter": "python",
   "pygments_lexer": "ipython3",
   "version": "3.11.3"
  }
 },
 "nbformat": 4,
 "nbformat_minor": 5
}
